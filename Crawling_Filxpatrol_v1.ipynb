{
 "cells": [
  {
   "cell_type": "code",
   "execution_count": 2,
   "metadata": {},
   "outputs": [
    {
     "name": "stdout",
     "output_type": "stream",
     "text": [
      "Collecting selenium\n",
      "  Downloading selenium-3.141.0-py2.py3-none-any.whl (904 kB)\n",
      "Requirement already satisfied: urllib3 in c:\\users\\user\\anaconda3\\lib\\site-packages (from selenium) (1.25.11)\n",
      "Installing collected packages: selenium\n",
      "Successfully installed selenium-3.141.0\n",
      "Note: you may need to restart the kernel to use updated packages.\n"
     ]
    }
   ],
   "source": [
    "pip install selenium\n",
    "pip install beautifulsoup4\n",
    "pip install lxml"
   ]
  },
  {
   "cell_type": "code",
   "execution_count": 25,
   "metadata": {},
   "outputs": [],
   "source": [
    "import requests\n",
    "from bs4 import BeautifulSoup as BS"
   ]
  },
  {
   "cell_type": "code",
   "execution_count": 61,
   "metadata": {
    "scrolled": true
   },
   "outputs": [
    {
     "name": "stdout",
     "output_type": "stream",
     "text": [
      "<tr class=\"table-group\">\n",
      "<td class=\"table-td w-7\">\n",
      "<span class=\"inline-block h-3 w-3 shadow rounded-sm _bg-f23a2f\"></span>\n",
      "</td>\n",
      "<td class=\"table-td\">\n",
      "\t\t\t\t\t\tNorth America\n",
      "\t\t\t\t\t</td>\n",
      "<td class=\"table-td w-16 text-right\">\n",
      "\t\t\t\t\t\t55.7%\n",
      "\t\t\t\t\t</td>\n",
      "</tr>[<tr class=\"table-group\">\n",
      "<td class=\"table-td w-7\">\n",
      "<span class=\"inline-block h-3 w-3 shadow rounded-sm _bg-007bff\"></span>\n",
      "</td>\n",
      "<td class=\"table-td\">\n",
      "\t\t\t\t\t\tEurope\n",
      "\t\t\t\t\t</td>\n",
      "<td class=\"table-td w-16 text-right\">\n",
      "\t\t\t\t\t\t20.0%\n",
      "\t\t\t\t\t</td>\n",
      "</tr>, <tr class=\"table-group\">\n",
      "<td class=\"table-td w-7\">\n",
      "<span class=\"inline-block h-3 w-3 shadow rounded-sm _bg-eec60a\"></span>\n",
      "</td>\n",
      "<td class=\"table-td\">\n",
      "\t\t\t\t\t\tAsia\n",
      "\t\t\t\t\t</td>\n",
      "<td class=\"table-td w-16 text-right\">\n",
      "\t\t\t\t\t\t10.6%\n",
      "\t\t\t\t\t</td>\n",
      "</tr>, <tr class=\"table-group\">\n",
      "<td class=\"table-td w-7\">\n",
      "<span class=\"inline-block h-3 w-3 shadow rounded-sm _bg-f87100\"></span>\n",
      "</td>\n",
      "<td class=\"table-td\">\n",
      "\t\t\t\t\t\tLatin America\n",
      "\t\t\t\t\t</td>\n",
      "<td class=\"table-td w-16 text-right\">\n",
      "\t\t\t\t\t\t8.3%\n",
      "\t\t\t\t\t</td>\n",
      "</tr>, <tr class=\"table-group\">\n",
      "<td class=\"table-td w-7\">\n",
      "<span class=\"inline-block h-3 w-3 shadow rounded-sm bg-blue-400\"></span>\n",
      "</td>\n",
      "<td class=\"table-td\">\n",
      "\t\t\t\t\t\tOther\n",
      "\t\t\t\t\t</td>\n",
      "<td class=\"table-td w-16 text-right\">\n",
      "\t\t\t\t\t\t4.4%\n",
      "\t\t\t\t\t</td>\n",
      "</tr>, <tr class=\"table-group\">\n",
      "<td class=\"table-td w-7\">\n",
      "<span class=\"inline-block h-3 w-3 shadow rounded-sm _bg-7cbd1f\"></span>\n",
      "</td>\n",
      "<td class=\"table-td\">\n",
      "\t\t\t\t\t\tAustralia\n",
      "\t\t\t\t\t</td>\n",
      "<td class=\"table-td w-16 text-right\">\n",
      "\t\t\t\t\t\t0.6%\n",
      "\t\t\t\t\t</td>\n",
      "</tr>, <tr class=\"table-group\">\n",
      "<td class=\"table-td w-7\">\n",
      "<span class=\"inline-block h-3 w-3 shadow rounded-sm _bg-6d757d\"></span>\n",
      "</td>\n",
      "<td class=\"table-td\">\n",
      "\t\t\t\t\t\tAfrica\n",
      "\t\t\t\t\t</td>\n",
      "<td class=\"table-td w-16 text-right\">\n",
      "\t\t\t\t\t\t0.3%\n",
      "\t\t\t\t\t</td>\n",
      "</tr>]\n"
     ]
    }
   ],
   "source": [
    "url = \"https://flixpatrol.com/preferences/\"\n",
    "res = requests.get(url)\n",
    "res.raise_for_status() # 문제 있으면 프로그램 종료\n",
    "\n",
    "pf1 = BS(res.text, 'lxml')\n",
    "\n",
    "# print(pf1.title) #특정 헤더\n",
    "# print(pf1.title.get_text()) # 내부 문자\n",
    "# print(pf1.a) # 처음으로 발견하는 a element를 챙겨온다!\n",
    "# print(pf1.a.attrs) # a element의 속성 정보를 출력\n",
    "# print(pf1.td.attrs)# a element의 __ 송석 값을 출력한다\n",
    "# print(pf1.find(\"tr\", attrs = {\"class\" : 'table-group'})) # 맨 먼저 나오는 것을 찾아준다!\n",
    "# .find(\"tr\", text = \"-----\") 가능\n",
    "# findall(~~~)\n",
    "# print(pf1.find(\"tbody\", attrs = {\"class\" : 'tabular-nums'}))\n",
    "# r2 = r1.next_sibling.next_sibling #\n",
    "# r2 = r1.find_next_sibling(\"tr\")  / .find_previous_sibling() #계형 여부 상관업싱!\n",
    "# r2 = r1.find_next_siblings(\"tr\")  -> 형제들 다 가져온다!\n",
    "\n",
    "r1 = pf1.find(\"tr\", attrs = {\"class\" : 'table-group'})\n",
    "r2 = r1.find_next_siblings(\"tr\")\n",
    "print(str(r1) + str(r2))"
   ]
  },
  {
   "cell_type": "code",
   "execution_count": 116,
   "metadata": {},
   "outputs": [
    {
     "data": {
      "text/plain": [
       "{'North America': '55.7%',\n",
       " 'Europe': '20.0%',\n",
       " 'Asia': '10.6%',\n",
       " 'Latin America': '8.3%',\n",
       " 'Other': '36.3%',\n",
       " 'Australia': '0.6%',\n",
       " 'Africa': '0.3%',\n",
       " 'Crime': '17.4%',\n",
       " 'Animated': '14.2%',\n",
       " 'Drama': '13.3%',\n",
       " 'Comedy': '10.7%',\n",
       " 'Thriller': '5.7%',\n",
       " 'Adventure': '5.3%',\n",
       " 'Fantasy': '4.7%',\n",
       " 'Horror': '4.4%',\n",
       " 'Sci-fi': '4.0%',\n",
       " 'Superhero': '3.9%',\n",
       " 'Action': '3.7%',\n",
       " 'Documentary': '3.2%',\n",
       " 'Unscripted': '2.1%',\n",
       " 'Romance': '1.4%',\n",
       " 'Western': '0.1%',\n",
       " 'War': '0.1%',\n",
       " 'Family': '0.0%',\n",
       " 'Netflix': '47.0%',\n",
       " 'Universal Pictures': '6.2%',\n",
       " 'Paramount Pictures': '3.7%',\n",
       " 'Warner Bros. Pictures': '2.4%',\n",
       " 'Sony Pictures': '2.3%',\n",
       " 'Hulu': '0.9%',\n",
       " 'AMC': '0.4%',\n",
       " 'Amazon': '0.3%',\n",
       " 'Lionsgate': '0.2%',\n",
       " '20th Century Fox': '0.1%',\n",
       " 'STX Entertainment': '0.1%',\n",
       " 'MGM': '0.1%',\n",
       " 'Canal Plus': '0.1%',\n",
       " 'Orion Pictures': '0.0%'}"
      ]
     },
     "execution_count": 116,
     "metadata": {},
     "output_type": "execute_result"
    }
   ],
   "source": [
    "get = {}\n",
    "all_tr = pf1.find_all(\"tr\", attrs = {\"class\" : 'table-group'})\n",
    "\n",
    "for x in range(len(all_tr)) :\n",
    "    dt = str(all_tr[x].get_text()).split()\n",
    "    if len(dt) > 2 :\n",
    "        get[\" \".join(dt[:-1])] = dt[-1]\n",
    "    else :\n",
    "        get[dt[0]] = dt[-1]\n",
    "        \n",
    "get"
   ]
  },
  {
   "cell_type": "code",
   "execution_count": 121,
   "metadata": {},
   "outputs": [],
   "source": [
    "url = \"https://flixpatrol.com/preferences/\"\n",
    "res = requests.get(url)\n",
    "res.raise_for_status() # 문제 있으면 프로그램 종료\n",
    "\n",
    "pf1 = BS(res.text, 'lxml')\n",
    "\n",
    "page = pf1.find_all(\"div\", attrs = {\"class\" : 'max-h-80 overflow-y-auto'})\n"
   ]
  },
  {
   "cell_type": "code",
   "execution_count": 131,
   "metadata": {},
   "outputs": [
    {
     "data": {
      "text/plain": [
       "<div class=\"max-h-80 overflow-y-auto\" role=\"menu\">\n",
       "<a class=\"bg-gray-800 flex items-center px-3 py-2 text-sm leading-4 text-gray-300 hover:bg-gray-700 hover:text-gray-100 focus:outline-none\" href=\"/preferences/\" role=\"menuitem\">\n",
       "<span class=\"mr-2 h-4 w-4 text-xxs text-center bg-gray-500 rounded-sm\">2</span> Q2 2021\n",
       "\t\t\t\t</a>\n",
       "<a class=\"flex items-center px-3 py-2 text-sm leading-4 text-gray-300 hover:bg-gray-700 hover:text-gray-100 focus:outline-none\" href=\"/preferences/netflix/overall/all/2021-1/\" role=\"menuitem\">\n",
       "<span class=\"mr-2 h-4 w-4 text-xxs text-center bg-gray-500 rounded-sm\">1</span> Q1 2021\n",
       "\t\t\t\t</a>\n",
       "<a class=\"flex items-center px-3 py-2 text-sm leading-4 text-gray-300 hover:bg-gray-700 hover:text-gray-100 focus:outline-none\" href=\"/preferences/netflix/overall/all/2020-4/\" role=\"menuitem\">\n",
       "<span class=\"mr-2 h-4 w-4 text-xxs text-center bg-gray-500 rounded-sm\">4</span> Q4 2020\n",
       "\t\t\t\t</a>\n",
       "<a class=\"flex items-center px-3 py-2 text-sm leading-4 text-gray-300 hover:bg-gray-700 hover:text-gray-100 focus:outline-none\" href=\"/preferences/netflix/overall/all/2020-3/\" role=\"menuitem\">\n",
       "<span class=\"mr-2 h-4 w-4 text-xxs text-center bg-gray-500 rounded-sm\">3</span> Q3 2020\n",
       "\t\t\t\t</a>\n",
       "<a class=\"flex items-center px-3 py-2 text-sm leading-4 text-gray-300 hover:bg-gray-700 hover:text-gray-100 focus:outline-none\" href=\"/preferences/netflix/overall/all/2020-2/\" role=\"menuitem\">\n",
       "<span class=\"mr-2 h-4 w-4 text-xxs text-center bg-gray-500 rounded-sm\">2</span> Q2 2020\n",
       "\t\t\t\t</a>\n",
       "<a class=\"flex items-center px-3 py-2 text-sm leading-4 text-gray-300 hover:bg-gray-700 hover:text-gray-100 focus:outline-none\" href=\"/preferences/netflix/overall/all/2020-1/\" role=\"menuitem\">\n",
       "<span class=\"mr-2 h-4 w-4 text-xxs text-center bg-gray-500 rounded-sm\">1</span> Q1 2020\n",
       "\t\t\t\t</a>\n",
       "</div>"
      ]
     },
     "execution_count": 131,
     "metadata": {},
     "output_type": "execute_result"
    }
   ],
   "source": [
    "page[-1]"
   ]
  },
  {
   "cell_type": "code",
   "execution_count": 157,
   "metadata": {},
   "outputs": [
    {
     "data": {
      "text/plain": [
       "'/preferences/'"
      ]
     },
     "execution_count": 157,
     "metadata": {},
     "output_type": "execute_result"
    }
   ],
   "source": [
    "page[-1].a[\"href\"]"
   ]
  },
  {
   "cell_type": "code",
   "execution_count": 151,
   "metadata": {},
   "outputs": [
    {
     "data": {
      "text/plain": [
       "['\\n',\n",
       " '\\n',\n",
       " <span class=\"mr-2 h-4 w-4 text-xxs text-center bg-gray-500 rounded-sm\">2</span>,\n",
       " ' Q2 2021\\n\\t\\t\\t\\t',\n",
       " '\\n',\n",
       " '\\n',\n",
       " <span class=\"mr-2 h-4 w-4 text-xxs text-center bg-gray-500 rounded-sm\">1</span>,\n",
       " ' Q1 2021\\n\\t\\t\\t\\t',\n",
       " '\\n',\n",
       " '\\n',\n",
       " <span class=\"mr-2 h-4 w-4 text-xxs text-center bg-gray-500 rounded-sm\">4</span>,\n",
       " ' Q4 2020\\n\\t\\t\\t\\t',\n",
       " '\\n',\n",
       " '\\n',\n",
       " <span class=\"mr-2 h-4 w-4 text-xxs text-center bg-gray-500 rounded-sm\">3</span>,\n",
       " ' Q3 2020\\n\\t\\t\\t\\t',\n",
       " '\\n',\n",
       " '\\n',\n",
       " <span class=\"mr-2 h-4 w-4 text-xxs text-center bg-gray-500 rounded-sm\">2</span>,\n",
       " ' Q2 2020\\n\\t\\t\\t\\t',\n",
       " '\\n',\n",
       " '\\n',\n",
       " <span class=\"mr-2 h-4 w-4 text-xxs text-center bg-gray-500 rounded-sm\">1</span>,\n",
       " ' Q1 2020\\n\\t\\t\\t\\t',\n",
       " '\\n']"
      ]
     },
     "execution_count": 151,
     "metadata": {},
     "output_type": "execute_result"
    }
   ],
   "source": [
    "link = []\n",
    "\n",
    "for Q in page[-1] : \n",
    "    link += Q\n",
    "link"
   ]
  },
  {
   "cell_type": "code",
   "execution_count": 180,
   "metadata": {},
   "outputs": [
    {
     "ename": "AttributeError",
     "evalue": "'str' object has no attribute 'find_next_sibling'",
     "output_type": "error",
     "traceback": [
      "\u001b[1;31m---------------------------------------------------------------------------\u001b[0m",
      "\u001b[1;31mAttributeError\u001b[0m                            Traceback (most recent call last)",
      "\u001b[1;32m<ipython-input-180-0d683bd74c11>\u001b[0m in \u001b[0;36m<module>\u001b[1;34m\u001b[0m\n\u001b[0;32m      1\u001b[0m \u001b[0mQ21_2\u001b[0m \u001b[1;33m=\u001b[0m \u001b[0mpage\u001b[0m\u001b[1;33m[\u001b[0m\u001b[1;33m-\u001b[0m\u001b[1;36m1\u001b[0m\u001b[1;33m]\u001b[0m\u001b[1;33m.\u001b[0m\u001b[0ma\u001b[0m\u001b[1;33m[\u001b[0m\u001b[1;34m\"href\"\u001b[0m\u001b[1;33m]\u001b[0m\u001b[1;33m\u001b[0m\u001b[1;33m\u001b[0m\u001b[0m\n\u001b[1;32m----> 2\u001b[1;33m \u001b[0mQ21_1\u001b[0m \u001b[1;33m=\u001b[0m \u001b[0mQ21_2\u001b[0m\u001b[1;33m.\u001b[0m\u001b[0mfind_next_sibling\u001b[0m\u001b[1;33m(\u001b[0m\u001b[1;33m)\u001b[0m\u001b[1;33m\u001b[0m\u001b[1;33m\u001b[0m\u001b[0m\n\u001b[0m\u001b[0;32m      3\u001b[0m \u001b[1;33m\u001b[0m\u001b[0m\n\u001b[0;32m      4\u001b[0m \u001b[0mprint\u001b[0m\u001b[1;33m(\u001b[0m\u001b[0mQ21_1\u001b[0m\u001b[1;33m)\u001b[0m\u001b[1;33m\u001b[0m\u001b[1;33m\u001b[0m\u001b[0m\n",
      "\u001b[1;31mAttributeError\u001b[0m: 'str' object has no attribute 'find_next_sibling'"
     ]
    }
   ],
   "source": [
    "Q21_2 = page[-1].a[\"href\"]\n",
    "Q21_1 = Q21_2.find_next_sibling()\n",
    "\n",
    "print(Q21_1)"
   ]
  },
  {
   "cell_type": "code",
   "execution_count": 172,
   "metadata": {},
   "outputs": [
    {
     "data": {
      "text/plain": [
       "<a class=\"bg-gray-800 flex items-center px-3 py-2 text-sm leading-4 text-gray-300 hover:bg-gray-700 hover:text-gray-100 focus:outline-none\" href=\"/preferences/\" role=\"menuitem\">\n",
       "<span class=\"mr-2 h-4 w-4 text-xxs text-center bg-gray-500 rounded-sm\">2</span> Q2 2021\n",
       "\t\t\t\t</a>"
      ]
     },
     "execution_count": 172,
     "metadata": {},
     "output_type": "execute_result"
    }
   ],
   "source": [
    "Q21_1"
   ]
  },
  {
   "cell_type": "code",
   "execution_count": null,
   "metadata": {},
   "outputs": [],
   "source": []
  }
 ],
 "metadata": {
  "kernelspec": {
   "display_name": "Python 3",
   "language": "python",
   "name": "python3"
  },
  "language_info": {
   "codemirror_mode": {
    "name": "ipython",
    "version": 3
   },
   "file_extension": ".py",
   "mimetype": "text/x-python",
   "name": "python",
   "nbconvert_exporter": "python",
   "pygments_lexer": "ipython3",
   "version": "3.8.5"
  }
 },
 "nbformat": 4,
 "nbformat_minor": 4
}
